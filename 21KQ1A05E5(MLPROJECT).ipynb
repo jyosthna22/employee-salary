{
 "cells": [
  {
   "cell_type": "markdown",
   "id": "aeaf3e25-554e-41e5-b6e1-b97eb0d90d8c",
   "metadata": {},
   "source": [
    "# PREDICTING EMPLOYEE SALARY BASED ON EXPERIENCE"
   ]
  },
  {
   "cell_type": "markdown",
   "id": "1e883423-d5d2-4051-9bc9-92a90a905375",
   "metadata": {},
   "source": [
    "# PROBLEM STATEMENT"
   ]
  },
  {
   "cell_type": "raw",
   "id": "5a57685a-61ae-464b-9a95-02c0cd27ccb7",
   "metadata": {},
   "source": [
    "In the corporate world, employee compensation is a crucial factor for both the employers and the employees. Determining a fair and competitive salary\n",
    "based on an employee’s experience is important for maintaining job satisfaction, motivation, and retention. This dataset contains data on employees\n",
    "' years of experience and their corresponding salaries."
   ]
  },
  {
   "cell_type": "markdown",
   "id": "4b32498f-c7f8-4171-8b1f-43e1a5719999",
   "metadata": {},
   "source": [
    "### IMPORT THE DATASET"
   ]
  },
  {
   "cell_type": "code",
   "execution_count": 29,
   "id": "03fcbccf-509e-4495-9b09-f718d8ff85e6",
   "metadata": {},
   "outputs": [],
   "source": [
    "import numpy as np\n",
    "import pandas as pd\n",
    "import matplotlib .pyplot as plt\n",
    "import seaborn as sns\n",
    "import warnings\n",
    "warnings.filterwarnings(\"ignore\")"
   ]
  },
  {
   "cell_type": "code",
   "execution_count": 10,
   "id": "c0c15159-3a63-40e6-86bd-07efd8f5943f",
   "metadata": {},
   "outputs": [
    {
     "data": {
      "text/html": [
       "<div>\n",
       "<style scoped>\n",
       "    .dataframe tbody tr th:only-of-type {\n",
       "        vertical-align: middle;\n",
       "    }\n",
       "\n",
       "    .dataframe tbody tr th {\n",
       "        vertical-align: top;\n",
       "    }\n",
       "\n",
       "    .dataframe thead th {\n",
       "        text-align: right;\n",
       "    }\n",
       "</style>\n",
       "<table border=\"1\" class=\"dataframe\">\n",
       "  <thead>\n",
       "    <tr style=\"text-align: right;\">\n",
       "      <th></th>\n",
       "      <th>Experience Years</th>\n",
       "      <th>Salary</th>\n",
       "    </tr>\n",
       "  </thead>\n",
       "  <tbody>\n",
       "    <tr>\n",
       "      <th>0</th>\n",
       "      <td>1.1</td>\n",
       "      <td>39343</td>\n",
       "    </tr>\n",
       "    <tr>\n",
       "      <th>1</th>\n",
       "      <td>1.2</td>\n",
       "      <td>42774</td>\n",
       "    </tr>\n",
       "    <tr>\n",
       "      <th>2</th>\n",
       "      <td>1.3</td>\n",
       "      <td>46205</td>\n",
       "    </tr>\n",
       "    <tr>\n",
       "      <th>3</th>\n",
       "      <td>1.5</td>\n",
       "      <td>37731</td>\n",
       "    </tr>\n",
       "    <tr>\n",
       "      <th>4</th>\n",
       "      <td>2.0</td>\n",
       "      <td>43525</td>\n",
       "    </tr>\n",
       "    <tr>\n",
       "      <th>5</th>\n",
       "      <td>2.2</td>\n",
       "      <td>39891</td>\n",
       "    </tr>\n",
       "    <tr>\n",
       "      <th>6</th>\n",
       "      <td>2.5</td>\n",
       "      <td>48266</td>\n",
       "    </tr>\n",
       "    <tr>\n",
       "      <th>7</th>\n",
       "      <td>2.9</td>\n",
       "      <td>56642</td>\n",
       "    </tr>\n",
       "    <tr>\n",
       "      <th>8</th>\n",
       "      <td>3.0</td>\n",
       "      <td>60150</td>\n",
       "    </tr>\n",
       "    <tr>\n",
       "      <th>9</th>\n",
       "      <td>3.2</td>\n",
       "      <td>54445</td>\n",
       "    </tr>\n",
       "    <tr>\n",
       "      <th>10</th>\n",
       "      <td>3.2</td>\n",
       "      <td>64445</td>\n",
       "    </tr>\n",
       "    <tr>\n",
       "      <th>11</th>\n",
       "      <td>3.5</td>\n",
       "      <td>60000</td>\n",
       "    </tr>\n",
       "    <tr>\n",
       "      <th>12</th>\n",
       "      <td>3.7</td>\n",
       "      <td>57189</td>\n",
       "    </tr>\n",
       "    <tr>\n",
       "      <th>13</th>\n",
       "      <td>3.8</td>\n",
       "      <td>60200</td>\n",
       "    </tr>\n",
       "    <tr>\n",
       "      <th>14</th>\n",
       "      <td>3.9</td>\n",
       "      <td>63218</td>\n",
       "    </tr>\n",
       "    <tr>\n",
       "      <th>15</th>\n",
       "      <td>4.0</td>\n",
       "      <td>55794</td>\n",
       "    </tr>\n",
       "    <tr>\n",
       "      <th>16</th>\n",
       "      <td>4.0</td>\n",
       "      <td>56957</td>\n",
       "    </tr>\n",
       "    <tr>\n",
       "      <th>17</th>\n",
       "      <td>4.1</td>\n",
       "      <td>57081</td>\n",
       "    </tr>\n",
       "    <tr>\n",
       "      <th>18</th>\n",
       "      <td>4.3</td>\n",
       "      <td>59095</td>\n",
       "    </tr>\n",
       "    <tr>\n",
       "      <th>19</th>\n",
       "      <td>4.5</td>\n",
       "      <td>61111</td>\n",
       "    </tr>\n",
       "    <tr>\n",
       "      <th>20</th>\n",
       "      <td>4.7</td>\n",
       "      <td>64500</td>\n",
       "    </tr>\n",
       "    <tr>\n",
       "      <th>21</th>\n",
       "      <td>4.9</td>\n",
       "      <td>67938</td>\n",
       "    </tr>\n",
       "    <tr>\n",
       "      <th>22</th>\n",
       "      <td>5.1</td>\n",
       "      <td>66029</td>\n",
       "    </tr>\n",
       "    <tr>\n",
       "      <th>23</th>\n",
       "      <td>5.3</td>\n",
       "      <td>83088</td>\n",
       "    </tr>\n",
       "    <tr>\n",
       "      <th>24</th>\n",
       "      <td>5.5</td>\n",
       "      <td>82200</td>\n",
       "    </tr>\n",
       "    <tr>\n",
       "      <th>25</th>\n",
       "      <td>5.9</td>\n",
       "      <td>81363</td>\n",
       "    </tr>\n",
       "    <tr>\n",
       "      <th>26</th>\n",
       "      <td>6.0</td>\n",
       "      <td>93940</td>\n",
       "    </tr>\n",
       "    <tr>\n",
       "      <th>27</th>\n",
       "      <td>6.2</td>\n",
       "      <td>91000</td>\n",
       "    </tr>\n",
       "    <tr>\n",
       "      <th>28</th>\n",
       "      <td>6.5</td>\n",
       "      <td>90000</td>\n",
       "    </tr>\n",
       "    <tr>\n",
       "      <th>29</th>\n",
       "      <td>6.8</td>\n",
       "      <td>91738</td>\n",
       "    </tr>\n",
       "    <tr>\n",
       "      <th>30</th>\n",
       "      <td>7.1</td>\n",
       "      <td>98273</td>\n",
       "    </tr>\n",
       "    <tr>\n",
       "      <th>31</th>\n",
       "      <td>7.9</td>\n",
       "      <td>101302</td>\n",
       "    </tr>\n",
       "    <tr>\n",
       "      <th>32</th>\n",
       "      <td>8.2</td>\n",
       "      <td>113812</td>\n",
       "    </tr>\n",
       "    <tr>\n",
       "      <th>33</th>\n",
       "      <td>8.5</td>\n",
       "      <td>111620</td>\n",
       "    </tr>\n",
       "    <tr>\n",
       "      <th>34</th>\n",
       "      <td>8.7</td>\n",
       "      <td>109431</td>\n",
       "    </tr>\n",
       "    <tr>\n",
       "      <th>35</th>\n",
       "      <td>9.0</td>\n",
       "      <td>105582</td>\n",
       "    </tr>\n",
       "    <tr>\n",
       "      <th>36</th>\n",
       "      <td>9.5</td>\n",
       "      <td>116969</td>\n",
       "    </tr>\n",
       "    <tr>\n",
       "      <th>37</th>\n",
       "      <td>9.6</td>\n",
       "      <td>112635</td>\n",
       "    </tr>\n",
       "    <tr>\n",
       "      <th>38</th>\n",
       "      <td>10.3</td>\n",
       "      <td>122391</td>\n",
       "    </tr>\n",
       "    <tr>\n",
       "      <th>39</th>\n",
       "      <td>10.5</td>\n",
       "      <td>121872</td>\n",
       "    </tr>\n",
       "  </tbody>\n",
       "</table>\n",
       "</div>"
      ],
      "text/plain": [
       "    Experience Years  Salary\n",
       "0                1.1   39343\n",
       "1                1.2   42774\n",
       "2                1.3   46205\n",
       "3                1.5   37731\n",
       "4                2.0   43525\n",
       "5                2.2   39891\n",
       "6                2.5   48266\n",
       "7                2.9   56642\n",
       "8                3.0   60150\n",
       "9                3.2   54445\n",
       "10               3.2   64445\n",
       "11               3.5   60000\n",
       "12               3.7   57189\n",
       "13               3.8   60200\n",
       "14               3.9   63218\n",
       "15               4.0   55794\n",
       "16               4.0   56957\n",
       "17               4.1   57081\n",
       "18               4.3   59095\n",
       "19               4.5   61111\n",
       "20               4.7   64500\n",
       "21               4.9   67938\n",
       "22               5.1   66029\n",
       "23               5.3   83088\n",
       "24               5.5   82200\n",
       "25               5.9   81363\n",
       "26               6.0   93940\n",
       "27               6.2   91000\n",
       "28               6.5   90000\n",
       "29               6.8   91738\n",
       "30               7.1   98273\n",
       "31               7.9  101302\n",
       "32               8.2  113812\n",
       "33               8.5  111620\n",
       "34               8.7  109431\n",
       "35               9.0  105582\n",
       "36               9.5  116969\n",
       "37               9.6  112635\n",
       "38              10.3  122391\n",
       "39              10.5  121872"
      ]
     },
     "execution_count": 10,
     "metadata": {},
     "output_type": "execute_result"
    }
   ],
   "source": [
    "import pandas as pd\n",
    "salary=pd.read_csv(\"salary_exp.csv\")\n",
    "salary"
   ]
  },
  {
   "cell_type": "markdown",
   "id": "82c5622c-3ed6-4352-b4e0-1313d90728dc",
   "metadata": {},
   "source": [
    " ### DATA DICTIONARY"
   ]
  },
  {
   "cell_type": "code",
   "execution_count": null,
   "id": "2b5bd4a8-d34f-4f59-93a9-00ff7f8993f7",
   "metadata": {},
   "outputs": [],
   "source": [
    "The dataset consists of the following columns:\n",
    "1.\tExperience_Years: Number of years of experience the employee has.\n",
    "2.\tSalary: Salary of the employee (in dollars)."
   ]
  },
  {
   "cell_type": "markdown",
   "id": "9dee2a7e-d42f-432e-9afb-5ba422ce9827",
   "metadata": {},
   "source": [
    "### INITIAL CHECKUP"
   ]
  },
  {
   "cell_type": "code",
   "execution_count": 3,
   "id": "006d88c9-e826-46d7-b7d1-bf8ab41c1fac",
   "metadata": {},
   "outputs": [
    {
     "name": "stdout",
     "output_type": "stream",
     "text": [
      "<class 'pandas.core.frame.DataFrame'>\n",
      "RangeIndex: 40 entries, 0 to 39\n",
      "Data columns (total 2 columns):\n",
      " #   Column            Non-Null Count  Dtype  \n",
      "---  ------            --------------  -----  \n",
      " 0   Experience Years  40 non-null     float64\n",
      " 1   Salary            40 non-null     int64  \n",
      "dtypes: float64(1), int64(1)\n",
      "memory usage: 772.0 bytes\n"
     ]
    }
   ],
   "source": [
    "salary.info()"
   ]
  },
  {
   "cell_type": "code",
   "execution_count": 4,
   "id": "5b5abc11-3e50-476f-ae19-57367e2c0b53",
   "metadata": {},
   "outputs": [
    {
     "data": {
      "text/plain": [
       "80"
      ]
     },
     "execution_count": 4,
     "metadata": {},
     "output_type": "execute_result"
    }
   ],
   "source": [
    "salary.size"
   ]
  },
  {
   "cell_type": "code",
   "execution_count": 5,
   "id": "fe6d6288-62c0-4db5-a578-0319046d96a8",
   "metadata": {},
   "outputs": [
    {
     "data": {
      "text/plain": [
       "(40, 2)"
      ]
     },
     "execution_count": 5,
     "metadata": {},
     "output_type": "execute_result"
    }
   ],
   "source": [
    "salary.shape"
   ]
  },
  {
   "cell_type": "markdown",
   "id": "5c3fb00b-86fe-4bb4-bd1b-650645552ac4",
   "metadata": {},
   "source": [
    "### ASKING QUESTIONS FROM DATA"
   ]
  },
  {
   "cell_type": "raw",
   "id": "a1133d7d-c8b4-4850-bbd5-aaf78a388800",
   "metadata": {},
   "source": [
    "1.what is the total count in the dataset?\n",
    "2.what is minimum salary?\n",
    "3.maximum years experience?\n",
    "4.Is there any relationship between year & salary?\n",
    "5.what is the mean of the salary?\n",
    "6.median of the salary?\n",
    "7.median of the years experience?\n",
    "8.how many employees get below $50000 salary?\n",
    "9.how many employees have above and equal 5 years experience?\n",
    "10.how many employees have the below 2 years experience?"
   ]
  },
  {
   "cell_type": "markdown",
   "id": "47bae269-4188-4539-b678-4584c27ada55",
   "metadata": {},
   "source": [
    "### EXPLORATORY DATA ANALYSIS"
   ]
  },
  {
   "cell_type": "code",
   "execution_count": 12,
   "id": "fded4a98-13e6-4e8c-9c5a-fc1e59dc2aec",
   "metadata": {},
   "outputs": [
    {
     "data": {
      "text/html": [
       "<div>\n",
       "<style scoped>\n",
       "    .dataframe tbody tr th:only-of-type {\n",
       "        vertical-align: middle;\n",
       "    }\n",
       "\n",
       "    .dataframe tbody tr th {\n",
       "        vertical-align: top;\n",
       "    }\n",
       "\n",
       "    .dataframe thead th {\n",
       "        text-align: right;\n",
       "    }\n",
       "</style>\n",
       "<table border=\"1\" class=\"dataframe\">\n",
       "  <thead>\n",
       "    <tr style=\"text-align: right;\">\n",
       "      <th></th>\n",
       "      <th>Experience Years</th>\n",
       "      <th>Salary</th>\n",
       "    </tr>\n",
       "  </thead>\n",
       "  <tbody>\n",
       "    <tr>\n",
       "      <th>count</th>\n",
       "      <td>40.000000</td>\n",
       "      <td>40.000000</td>\n",
       "    </tr>\n",
       "    <tr>\n",
       "      <th>mean</th>\n",
       "      <td>5.152500</td>\n",
       "      <td>74743.625000</td>\n",
       "    </tr>\n",
       "    <tr>\n",
       "      <th>std</th>\n",
       "      <td>2.663715</td>\n",
       "      <td>25947.122885</td>\n",
       "    </tr>\n",
       "    <tr>\n",
       "      <th>min</th>\n",
       "      <td>1.100000</td>\n",
       "      <td>37731.000000</td>\n",
       "    </tr>\n",
       "    <tr>\n",
       "      <th>25%</th>\n",
       "      <td>3.200000</td>\n",
       "      <td>56878.250000</td>\n",
       "    </tr>\n",
       "    <tr>\n",
       "      <th>50%</th>\n",
       "      <td>4.600000</td>\n",
       "      <td>64472.500000</td>\n",
       "    </tr>\n",
       "    <tr>\n",
       "      <th>75%</th>\n",
       "      <td>6.875000</td>\n",
       "      <td>95023.250000</td>\n",
       "    </tr>\n",
       "    <tr>\n",
       "      <th>max</th>\n",
       "      <td>10.500000</td>\n",
       "      <td>122391.000000</td>\n",
       "    </tr>\n",
       "  </tbody>\n",
       "</table>\n",
       "</div>"
      ],
      "text/plain": [
       "       Experience Years         Salary\n",
       "count         40.000000      40.000000\n",
       "mean           5.152500   74743.625000\n",
       "std            2.663715   25947.122885\n",
       "min            1.100000   37731.000000\n",
       "25%            3.200000   56878.250000\n",
       "50%            4.600000   64472.500000\n",
       "75%            6.875000   95023.250000\n",
       "max           10.500000  122391.000000"
      ]
     },
     "execution_count": 12,
     "metadata": {},
     "output_type": "execute_result"
    }
   ],
   "source": [
    "salary.describe()"
   ]
  },
  {
   "cell_type": "code",
   "execution_count": null,
   "id": "448afb0f-0f07-4049-8234-5640632d2453",
   "metadata": {},
   "outputs": [],
   "source": [
    "In the above dataset the describe() gives the count,minimum,maximum,mean of the years experience and salary column."
   ]
  },
  {
   "cell_type": "raw",
   "id": "28109588-7373-4228-b891-5975b209798d",
   "metadata": {},
   "source": [
    "1.what is the total count in the dataset?"
   ]
  },
  {
   "cell_type": "raw",
   "id": "de5d552c-86a9-4b29-969e-a91ea5657ed7",
   "metadata": {},
   "source": [
    "the total count is \"40\" employees"
   ]
  },
  {
   "cell_type": "raw",
   "id": "df91d8c4-60df-4f23-977b-bfa616892692",
   "metadata": {},
   "source": [
    "2.what is minimum salary?"
   ]
  },
  {
   "cell_type": "code",
   "execution_count": 3,
   "id": "55640790-f087-4824-bc2c-4112e571f3c9",
   "metadata": {},
   "outputs": [
    {
     "data": {
      "text/plain": [
       "37731"
      ]
     },
     "execution_count": 3,
     "metadata": {},
     "output_type": "execute_result"
    }
   ],
   "source": [
    "salary[\"Salary\"].min()"
   ]
  },
  {
   "cell_type": "raw",
   "id": "445c0659-3353-4c2f-bb00-2dda2eaeec1e",
   "metadata": {},
   "source": [
    "minimum salary is \"$37731\""
   ]
  },
  {
   "cell_type": "raw",
   "id": "2e4c4eb1-c0d2-4381-a607-261c02ef7196",
   "metadata": {},
   "source": [
    "3.maximum years experience?"
   ]
  },
  {
   "cell_type": "code",
   "execution_count": 4,
   "id": "8c2b26ed-7fcc-4fb3-a7d9-c063a480c5d7",
   "metadata": {},
   "outputs": [
    {
     "data": {
      "text/plain": [
       "10.5"
      ]
     },
     "execution_count": 4,
     "metadata": {},
     "output_type": "execute_result"
    }
   ],
   "source": [
    "salary[\"Experience Years\"].max()"
   ]
  },
  {
   "cell_type": "code",
   "execution_count": null,
   "id": "ac8202e8-8f18-4dee-9e7c-b7eae2fe8fc5",
   "metadata": {},
   "outputs": [],
   "source": [
    "maximum years experience is \"10.5\" years."
   ]
  },
  {
   "cell_type": "raw",
   "id": "bf1aa411-0b93-4782-885f-1a9419ac5a25",
   "metadata": {},
   "source": [
    "4.Is there any relationship between year & salary?"
   ]
  },
  {
   "cell_type": "code",
   "execution_count": 14,
   "id": "5cbf2628-f247-4bf2-afbb-b798ca974623",
   "metadata": {},
   "outputs": [
    {
     "data": {
      "text/plain": [
       "<Axes: xlabel='Experience Years', ylabel='Salary'>"
      ]
     },
     "execution_count": 14,
     "metadata": {},
     "output_type": "execute_result"
    },
    {
     "data": {
      "image/png": "[encoded data removed]",
      "text/plain": [
       "<Figure size 640x480 with 1 Axes>"
      ]
     },
     "metadata": {},
     "output_type": "display_data"
    }
   ],
   "source": [
    "import seaborn as sns\n",
    "sns.scatterplot(salary,x=\"Experience Years\",y=\"Salary\")"
   ]
  },
  {
   "cell_type": "raw",
   "id": "a45701e5-eb31-49ac-9293-89b225eb75df",
   "metadata": {},
   "source": [
    "In the above scatterplot describes the Experience Years is increased salary is increased."
   ]
  },
  {
   "cell_type": "raw",
   "id": "2b8f6c6b-5b80-4927-87b5-acd7e068816d",
   "metadata": {},
   "source": [
    "5.what is the mean of the salary?"
   ]
  },
  {
   "cell_type": "code",
   "execution_count": 5,
   "id": "ae06bd50-c66d-4e80-b732-1c562d68b6f9",
   "metadata": {},
   "outputs": [
    {
     "data": {
      "text/plain": [
       "74743.625"
      ]
     },
     "execution_count": 5,
     "metadata": {},
     "output_type": "execute_result"
    }
   ],
   "source": [
    "salary[\"Salary\"].mean()"
   ]
  },
  {
   "cell_type": "raw",
   "id": "d34ea65b-e56b-4d08-8969-488de317decc",
   "metadata": {},
   "source": [
    "the mean of the salary is $74743.625"
   ]
  },
  {
   "cell_type": "raw",
   "id": "14142764-9cd7-4168-8295-fc14b63d740e",
   "metadata": {},
   "source": [
    "6.what is the median of the salary?"
   ]
  },
  {
   "cell_type": "code",
   "execution_count": 8,
   "id": "e0505250-31c2-45b5-ae65-377d8c0db8ad",
   "metadata": {},
   "outputs": [
    {
     "data": {
      "text/plain": [
       "64472.5"
      ]
     },
     "execution_count": 8,
     "metadata": {},
     "output_type": "execute_result"
    }
   ],
   "source": [
    "salary[\"Salary\"].median()"
   ]
  },
  {
   "cell_type": "raw",
   "id": "49337748-68c8-4321-807b-3927ce92ae1e",
   "metadata": {},
   "source": [
    "In the dataset the median of salary is 64472.5"
   ]
  },
  {
   "cell_type": "raw",
   "id": "e189983f-6965-42c5-869d-f83075a0fa8d",
   "metadata": {},
   "source": [
    "7.what is the median of the experience years?"
   ]
  },
  {
   "cell_type": "code",
   "execution_count": 7,
   "id": "104bf162-ba1a-47bd-a080-739058389194",
   "metadata": {},
   "outputs": [
    {
     "data": {
      "text/plain": [
       "4.6"
      ]
     },
     "execution_count": 7,
     "metadata": {},
     "output_type": "execute_result"
    }
   ],
   "source": [
    "salary[\"Experience Years\"].median()"
   ]
  },
  {
   "cell_type": "raw",
   "id": "1a269976-7289-4878-94bb-f51a067b4b91",
   "metadata": {},
   "source": [
    "In the dataset the median of experience years is 4.6."
   ]
  },
  {
   "cell_type": "raw",
   "id": "0d456c06-99ae-461d-83f0-f5f7305b64a1",
   "metadata": {},
   "source": [
    "8.how many employees get below $50000 salary?"
   ]
  },
  {
   "cell_type": "code",
   "execution_count": 3,
   "id": "e0cd6077-cb1f-4f77-bf0d-af46270b2306",
   "metadata": {},
   "outputs": [
    {
     "data": {
      "text/plain": [
       "7"
      ]
     },
     "execution_count": 3,
     "metadata": {},
     "output_type": "execute_result"
    }
   ],
   "source": [
    "a=salary[salary[\"Salary\"]<50000].shape[0]\n",
    "a"
   ]
  },
  {
   "cell_type": "raw",
   "id": "44738f9a-fec4-4e04-a369-18caecbe9975",
   "metadata": {},
   "source": [
    "In the above data There are 7 employees who receive a salary below $50,000. ​"
   ]
  },
  {
   "cell_type": "markdown",
   "id": "7bea6cc0-787d-423a-acb5-d5f513110880",
   "metadata": {},
   "source": [
    "9.how many employees have above and equal 5 years experience?"
   ]
  },
  {
   "cell_type": "code",
   "execution_count": 6,
   "id": "df2dc29d-96b0-4cd2-a609-2e7f1f799c55",
   "metadata": {},
   "outputs": [
    {
     "data": {
      "text/plain": [
       "18"
      ]
     },
     "execution_count": 6,
     "metadata": {},
     "output_type": "execute_result"
    }
   ],
   "source": [
    "b=salary[salary[\"Experience Years\"]>=5].shape[0]\n",
    "b"
   ]
  },
  {
   "cell_type": "raw",
   "id": "fdad4ad4-3f73-4bbd-a6a3-a015dde260a0",
   "metadata": {},
   "source": [
    "In the above dataset  there are 18 employees with 5 or more years of experience."
   ]
  },
  {
   "cell_type": "raw",
   "id": "4413d6a8-46c6-4d38-bcfe-3bc51f609fad",
   "metadata": {},
   "source": [
    "10.how many employees have the below 2 years experience?"
   ]
  },
  {
   "cell_type": "code",
   "execution_count": 12,
   "id": "78923d78-97d8-4bd1-bae7-fa3e125a2fe2",
   "metadata": {},
   "outputs": [
    {
     "data": {
      "text/plain": [
       "4"
      ]
     },
     "execution_count": 12,
     "metadata": {},
     "output_type": "execute_result"
    }
   ],
   "source": [
    "b=salary[salary[\"Experience Years\"]<2].shape[0]\n",
    "b"
   ]
  },
  {
   "cell_type": "raw",
   "id": "9315d403-6691-4c31-b62d-bf28ef661a94",
   "metadata": {},
   "source": [
    "There are 4 employees below 2 years of experience."
   ]
  },
  {
   "cell_type": "markdown",
   "id": "bb46516f-5d08-46de-a10e-f9f0e21f569a",
   "metadata": {},
   "source": [
    "### VISULIZATION"
   ]
  },
  {
   "cell_type": "markdown",
   "id": "8df711b4-7f3e-4cf6-9efa-428a6d7dd10f",
   "metadata": {},
   "source": [
    "### UNIVARIATE ANALYSIS"
   ]
  },
  {
   "cell_type": "code",
   "execution_count": 15,
   "id": "79f325f9-8a04-4221-84d4-c89ae03685bf",
   "metadata": {},
   "outputs": [
    {
     "name": "stderr",
     "output_type": "stream",
     "text": [
      "C:\\Users\\f8\\anaconda3\\Lib\\site-packages\\seaborn\\_oldcore.py:1119: FutureWarning: use_inf_as_na option is deprecated and will be removed in a future version. Convert inf values to NaN before operating instead.\n",
      "  with pd.option_context('mode.use_inf_as_na', True):\n"
     ]
    },
    {
     "data": {
      "text/plain": [
       "<Axes: xlabel='Experience Years', ylabel='Count'>"
      ]
     },
     "execution_count": 15,
     "metadata": {},
     "output_type": "execute_result"
    },
    {
     "data": {
      "image/png": "[encoded data removed]",
      "text/plain": [
       "<Figure size 640x480 with 1 Axes>"
      ]
     },
     "metadata": {},
     "output_type": "display_data"
    }
   ],
   "source": [
    "sns.histplot(salary,x=\"Experience Years\")"
   ]
  },
  {
   "cell_type": "code",
   "execution_count": null,
   "id": "183560d4-09b1-4b6e-8b09-cb574dffc0e1",
   "metadata": {},
   "outputs": [],
   "source": [
    "By the histplot 4&5 years experience years has 10 employees."
   ]
  },
  {
   "cell_type": "code",
   "execution_count": 20,
   "id": "f3aa3008-d840-4cd0-ae72-ecaabca986a0",
   "metadata": {},
   "outputs": [
    {
     "name": "stderr",
     "output_type": "stream",
     "text": [
      "C:\\Users\\f8\\anaconda3\\Lib\\site-packages\\seaborn\\_oldcore.py:1119: FutureWarning: use_inf_as_na option is deprecated and will be removed in a future version. Convert inf values to NaN before operating instead.\n",
      "  with pd.option_context('mode.use_inf_as_na', True):\n"
     ]
    },
    {
     "data": {
      "text/plain": [
       "<Axes: xlabel='Salary', ylabel='Count'>"
      ]
     },
     "execution_count": 20,
     "metadata": {},
     "output_type": "execute_result"
    },
    {
     "data": {
      "image/png": "[encoded data removed]",
      "text/plain": [
       "<Figure size 640x480 with 1 Axes>"
      ]
     },
     "metadata": {},
     "output_type": "display_data"
    }
   ],
   "source": [
    "sns.histplot(salary,x=\"Salary\")"
   ]
  },
  {
   "cell_type": "raw",
   "id": "64e9bcf0-3553-4c15-8e70-966a4b593cd1",
   "metadata": {},
   "source": [
    "In the above histplot tells the 11 employees get between the $50000 & 60000 salary."
   ]
  },
  {
   "cell_type": "code",
   "execution_count": 28,
   "id": "f178eb78-1537-46b4-97a0-a20608e619ba",
   "metadata": {},
   "outputs": [
    {
     "name": "stderr",
     "output_type": "stream",
     "text": [
      "C:\\Users\\f8\\anaconda3\\Lib\\site-packages\\seaborn\\_oldcore.py:1119: FutureWarning: use_inf_as_na option is deprecated and will be removed in a future version. Convert inf values to NaN before operating instead.\n",
      "  with pd.option_context('mode.use_inf_as_na', True):\n"
     ]
    },
    {
     "data": {
      "text/plain": [
       "<Axes: xlabel='Experience Years', ylabel='Density'>"
      ]
     },
     "execution_count": 28,
     "metadata": {},
     "output_type": "execute_result"
    },
    {
     "data": {
      "image/png": "[encoded data removed]",
      "text/plain": [
       "<Figure size 640x480 with 1 Axes>"
      ]
     },
     "metadata": {},
     "output_type": "display_data"
    }
   ],
   "source": [
    "sns.kdeplot(salary,x=\"Experience Years\")"
   ]
  },
  {
   "cell_type": "code",
   "execution_count": null,
   "id": "ddd4bb7e-2ebb-4ee2-b1e1-c83cee995738",
   "metadata": {},
   "outputs": [],
   "source": [
    "The kdeplot describes the 5 years experience has more employees."
   ]
  },
  {
   "cell_type": "markdown",
   "id": "d14a8445-0f83-4d57-8c6a-8c2598c85ed5",
   "metadata": {},
   "source": [
    "### CORRELATION"
   ]
  },
  {
   "cell_type": "raw",
   "id": "6734a6c9-05a4-40d8-9a76-8eada0fa7b63",
   "metadata": {},
   "source": [
    "correlation refers to the statistical repesentation between two or more variables"
   ]
  },
  {
   "cell_type": "code",
   "execution_count": 11,
   "id": "1415341f-691c-48fc-8b2e-72f7d146f18b",
   "metadata": {},
   "outputs": [
    {
     "data": {
      "text/html": [
       "<div>\n",
       "<style scoped>\n",
       "    .dataframe tbody tr th:only-of-type {\n",
       "        vertical-align: middle;\n",
       "    }\n",
       "\n",
       "    .dataframe tbody tr th {\n",
       "        vertical-align: top;\n",
       "    }\n",
       "\n",
       "    .dataframe thead th {\n",
       "        text-align: right;\n",
       "    }\n",
       "</style>\n",
       "<table border=\"1\" class=\"dataframe\">\n",
       "  <thead>\n",
       "    <tr style=\"text-align: right;\">\n",
       "      <th></th>\n",
       "      <th>Experience Years</th>\n",
       "      <th>Salary</th>\n",
       "    </tr>\n",
       "  </thead>\n",
       "  <tbody>\n",
       "    <tr>\n",
       "      <th>Experience Years</th>\n",
       "      <td>1.000000</td>\n",
       "      <td>0.977692</td>\n",
       "    </tr>\n",
       "    <tr>\n",
       "      <th>Salary</th>\n",
       "      <td>0.977692</td>\n",
       "      <td>1.000000</td>\n",
       "    </tr>\n",
       "  </tbody>\n",
       "</table>\n",
       "</div>"
      ],
      "text/plain": [
       "                  Experience Years    Salary\n",
       "Experience Years          1.000000  0.977692\n",
       "Salary                    0.977692  1.000000"
      ]
     },
     "execution_count": 11,
     "metadata": {},
     "output_type": "execute_result"
    }
   ],
   "source": [
    "salary.corr()"
   ]
  },
  {
   "cell_type": "code",
   "execution_count": 12,
   "id": "8bd994a2-097b-4052-b81c-3a7aec722716",
   "metadata": {},
   "outputs": [
    {
     "data": {
      "text/plain": [
       "0.9776918968570498"
      ]
     },
     "execution_count": 12,
     "metadata": {},
     "output_type": "execute_result"
    }
   ],
   "source": [
    "df = pd.DataFrame(salary)\n",
    "correlation = df.corr().loc['Experience Years', 'Salary']\n",
    "correlation"
   ]
  },
  {
   "cell_type": "raw",
   "id": "55f72953-6dbf-4134-9a16-dfba6bb332ba",
   "metadata": {},
   "source": [
    "The correlation  between years of experience and salary is 0.977692, indicating a very strong positive linear relationship."
   ]
  },
  {
   "cell_type": "markdown",
   "id": "f8d66480-a342-4e54-9240-c27339351c89",
   "metadata": {},
   "source": [
    "### TRAIN_TEST_SPLIT"
   ]
  },
  {
   "cell_type": "raw",
   "id": "77f057d8-2277-4e9e-a143-c8284fe0c3e7",
   "metadata": {},
   "source": [
    "The code imports the train_test_split function from scikit-learn's model_selection module,used for spliting datasets into training and testing for \n",
    "machine learning."
   ]
  },
  {
   "cell_type": "code",
   "execution_count": 13,
   "id": "bdb1d7e3-8688-4bd9-a8d1-cde384c33f53",
   "metadata": {},
   "outputs": [
    {
     "data": {
      "text/html": [
       "<div>\n",
       "<style scoped>\n",
       "    .dataframe tbody tr th:only-of-type {\n",
       "        vertical-align: middle;\n",
       "    }\n",
       "\n",
       "    .dataframe tbody tr th {\n",
       "        vertical-align: top;\n",
       "    }\n",
       "\n",
       "    .dataframe thead th {\n",
       "        text-align: right;\n",
       "    }\n",
       "</style>\n",
       "<table border=\"1\" class=\"dataframe\">\n",
       "  <thead>\n",
       "    <tr style=\"text-align: right;\">\n",
       "      <th></th>\n",
       "      <th>Experience Years</th>\n",
       "    </tr>\n",
       "  </thead>\n",
       "  <tbody>\n",
       "    <tr>\n",
       "      <th>0</th>\n",
       "      <td>1.1</td>\n",
       "    </tr>\n",
       "    <tr>\n",
       "      <th>1</th>\n",
       "      <td>1.2</td>\n",
       "    </tr>\n",
       "    <tr>\n",
       "      <th>2</th>\n",
       "      <td>1.3</td>\n",
       "    </tr>\n",
       "    <tr>\n",
       "      <th>3</th>\n",
       "      <td>1.5</td>\n",
       "    </tr>\n",
       "    <tr>\n",
       "      <th>4</th>\n",
       "      <td>2.0</td>\n",
       "    </tr>\n",
       "    <tr>\n",
       "      <th>5</th>\n",
       "      <td>2.2</td>\n",
       "    </tr>\n",
       "    <tr>\n",
       "      <th>6</th>\n",
       "      <td>2.5</td>\n",
       "    </tr>\n",
       "    <tr>\n",
       "      <th>7</th>\n",
       "      <td>2.9</td>\n",
       "    </tr>\n",
       "    <tr>\n",
       "      <th>8</th>\n",
       "      <td>3.0</td>\n",
       "    </tr>\n",
       "    <tr>\n",
       "      <th>9</th>\n",
       "      <td>3.2</td>\n",
       "    </tr>\n",
       "    <tr>\n",
       "      <th>10</th>\n",
       "      <td>3.2</td>\n",
       "    </tr>\n",
       "    <tr>\n",
       "      <th>11</th>\n",
       "      <td>3.5</td>\n",
       "    </tr>\n",
       "    <tr>\n",
       "      <th>12</th>\n",
       "      <td>3.7</td>\n",
       "    </tr>\n",
       "    <tr>\n",
       "      <th>13</th>\n",
       "      <td>3.8</td>\n",
       "    </tr>\n",
       "    <tr>\n",
       "      <th>14</th>\n",
       "      <td>3.9</td>\n",
       "    </tr>\n",
       "    <tr>\n",
       "      <th>15</th>\n",
       "      <td>4.0</td>\n",
       "    </tr>\n",
       "    <tr>\n",
       "      <th>16</th>\n",
       "      <td>4.0</td>\n",
       "    </tr>\n",
       "    <tr>\n",
       "      <th>17</th>\n",
       "      <td>4.1</td>\n",
       "    </tr>\n",
       "    <tr>\n",
       "      <th>18</th>\n",
       "      <td>4.3</td>\n",
       "    </tr>\n",
       "    <tr>\n",
       "      <th>19</th>\n",
       "      <td>4.5</td>\n",
       "    </tr>\n",
       "    <tr>\n",
       "      <th>20</th>\n",
       "      <td>4.7</td>\n",
       "    </tr>\n",
       "    <tr>\n",
       "      <th>21</th>\n",
       "      <td>4.9</td>\n",
       "    </tr>\n",
       "    <tr>\n",
       "      <th>22</th>\n",
       "      <td>5.1</td>\n",
       "    </tr>\n",
       "    <tr>\n",
       "      <th>23</th>\n",
       "      <td>5.3</td>\n",
       "    </tr>\n",
       "    <tr>\n",
       "      <th>24</th>\n",
       "      <td>5.5</td>\n",
       "    </tr>\n",
       "    <tr>\n",
       "      <th>25</th>\n",
       "      <td>5.9</td>\n",
       "    </tr>\n",
       "    <tr>\n",
       "      <th>26</th>\n",
       "      <td>6.0</td>\n",
       "    </tr>\n",
       "    <tr>\n",
       "      <th>27</th>\n",
       "      <td>6.2</td>\n",
       "    </tr>\n",
       "    <tr>\n",
       "      <th>28</th>\n",
       "      <td>6.5</td>\n",
       "    </tr>\n",
       "    <tr>\n",
       "      <th>29</th>\n",
       "      <td>6.8</td>\n",
       "    </tr>\n",
       "    <tr>\n",
       "      <th>30</th>\n",
       "      <td>7.1</td>\n",
       "    </tr>\n",
       "    <tr>\n",
       "      <th>31</th>\n",
       "      <td>7.9</td>\n",
       "    </tr>\n",
       "    <tr>\n",
       "      <th>32</th>\n",
       "      <td>8.2</td>\n",
       "    </tr>\n",
       "    <tr>\n",
       "      <th>33</th>\n",
       "      <td>8.5</td>\n",
       "    </tr>\n",
       "    <tr>\n",
       "      <th>34</th>\n",
       "      <td>8.7</td>\n",
       "    </tr>\n",
       "    <tr>\n",
       "      <th>35</th>\n",
       "      <td>9.0</td>\n",
       "    </tr>\n",
       "    <tr>\n",
       "      <th>36</th>\n",
       "      <td>9.5</td>\n",
       "    </tr>\n",
       "    <tr>\n",
       "      <th>37</th>\n",
       "      <td>9.6</td>\n",
       "    </tr>\n",
       "    <tr>\n",
       "      <th>38</th>\n",
       "      <td>10.3</td>\n",
       "    </tr>\n",
       "    <tr>\n",
       "      <th>39</th>\n",
       "      <td>10.5</td>\n",
       "    </tr>\n",
       "  </tbody>\n",
       "</table>\n",
       "</div>"
      ],
      "text/plain": [
       "    Experience Years\n",
       "0                1.1\n",
       "1                1.2\n",
       "2                1.3\n",
       "3                1.5\n",
       "4                2.0\n",
       "5                2.2\n",
       "6                2.5\n",
       "7                2.9\n",
       "8                3.0\n",
       "9                3.2\n",
       "10               3.2\n",
       "11               3.5\n",
       "12               3.7\n",
       "13               3.8\n",
       "14               3.9\n",
       "15               4.0\n",
       "16               4.0\n",
       "17               4.1\n",
       "18               4.3\n",
       "19               4.5\n",
       "20               4.7\n",
       "21               4.9\n",
       "22               5.1\n",
       "23               5.3\n",
       "24               5.5\n",
       "25               5.9\n",
       "26               6.0\n",
       "27               6.2\n",
       "28               6.5\n",
       "29               6.8\n",
       "30               7.1\n",
       "31               7.9\n",
       "32               8.2\n",
       "33               8.5\n",
       "34               8.7\n",
       "35               9.0\n",
       "36               9.5\n",
       "37               9.6\n",
       "38              10.3\n",
       "39              10.5"
      ]
     },
     "execution_count": 13,
     "metadata": {},
     "output_type": "execute_result"
    }
   ],
   "source": [
    "X=salary.iloc[:,0:1]\n",
    "X"
   ]
  },
  {
   "cell_type": "code",
   "execution_count": 14,
   "id": "5d661f65-39c3-4e00-861a-fda10c22f0c9",
   "metadata": {},
   "outputs": [
    {
     "data": {
      "text/plain": [
       "0      39343\n",
       "1      42774\n",
       "2      46205\n",
       "3      37731\n",
       "4      43525\n",
       "5      39891\n",
       "6      48266\n",
       "7      56642\n",
       "8      60150\n",
       "9      54445\n",
       "10     64445\n",
       "11     60000\n",
       "12     57189\n",
       "13     60200\n",
       "14     63218\n",
       "15     55794\n",
       "16     56957\n",
       "17     57081\n",
       "18     59095\n",
       "19     61111\n",
       "20     64500\n",
       "21     67938\n",
       "22     66029\n",
       "23     83088\n",
       "24     82200\n",
       "25     81363\n",
       "26     93940\n",
       "27     91000\n",
       "28     90000\n",
       "29     91738\n",
       "30     98273\n",
       "31    101302\n",
       "32    113812\n",
       "33    111620\n",
       "34    109431\n",
       "35    105582\n",
       "36    116969\n",
       "37    112635\n",
       "38    122391\n",
       "39    121872\n",
       "Name: Salary, dtype: int64"
      ]
     },
     "execution_count": 14,
     "metadata": {},
     "output_type": "execute_result"
    }
   ],
   "source": [
    "y=salary.iloc[:,-1]\n",
    "y"
   ]
  },
  {
   "cell_type": "code",
   "execution_count": 15,
   "id": "f10a9ce5-83b6-4537-8af0-1e5f521791d6",
   "metadata": {},
   "outputs": [
    {
     "data": {
      "text/html": [
       "<div>\n",
       "<style scoped>\n",
       "    .dataframe tbody tr th:only-of-type {\n",
       "        vertical-align: middle;\n",
       "    }\n",
       "\n",
       "    .dataframe tbody tr th {\n",
       "        vertical-align: top;\n",
       "    }\n",
       "\n",
       "    .dataframe thead th {\n",
       "        text-align: right;\n",
       "    }\n",
       "</style>\n",
       "<table border=\"1\" class=\"dataframe\">\n",
       "  <thead>\n",
       "    <tr style=\"text-align: right;\">\n",
       "      <th></th>\n",
       "      <th>Experience Years</th>\n",
       "    </tr>\n",
       "  </thead>\n",
       "  <tbody>\n",
       "    <tr>\n",
       "      <th>17</th>\n",
       "      <td>4.1</td>\n",
       "    </tr>\n",
       "    <tr>\n",
       "      <th>37</th>\n",
       "      <td>9.6</td>\n",
       "    </tr>\n",
       "    <tr>\n",
       "      <th>38</th>\n",
       "      <td>10.3</td>\n",
       "    </tr>\n",
       "    <tr>\n",
       "      <th>29</th>\n",
       "      <td>6.8</td>\n",
       "    </tr>\n",
       "    <tr>\n",
       "      <th>24</th>\n",
       "      <td>5.5</td>\n",
       "    </tr>\n",
       "  </tbody>\n",
       "</table>\n",
       "</div>"
      ],
      "text/plain": [
       "    Experience Years\n",
       "17               4.1\n",
       "37               9.6\n",
       "38              10.3\n",
       "29               6.8\n",
       "24               5.5"
      ]
     },
     "execution_count": 15,
     "metadata": {},
     "output_type": "execute_result"
    }
   ],
   "source": [
    "from sklearn.model_selection import train_test_split\n",
    "X_train,X_test,y_train,y_test=train_test_split(X,y,test_size=0.2,random_state=2)\n",
    "X_train.head()"
   ]
  },
  {
   "cell_type": "raw",
   "id": "95625f7d-4da4-4ced-85c7-4b0c1b149b87",
   "metadata": {},
   "source": [
    "The code splits the dataframe df into training sets(X_train,X_test,y_train,y_test)using the features \"Experience Years\"as X and \"Salary\" as y."
   ]
  },
  {
   "cell_type": "code",
   "execution_count": 16,
   "id": "58628c5b-78ca-464b-a645-6ed230de1ca7",
   "metadata": {},
   "outputs": [
    {
     "data": {
      "text/plain": [
       "(32, 1)"
      ]
     },
     "execution_count": 16,
     "metadata": {},
     "output_type": "execute_result"
    }
   ],
   "source": [
    "X_train.shape"
   ]
  },
  {
   "cell_type": "code",
   "execution_count": 17,
   "id": "5176923a-3f54-4897-b37f-7c4749bdd30b",
   "metadata": {},
   "outputs": [
    {
     "data": {
      "text/plain": [
       "17     57081\n",
       "37    112635\n",
       "38    122391\n",
       "29     91738\n",
       "24     82200\n",
       "Name: Salary, dtype: int64"
      ]
     },
     "execution_count": 17,
     "metadata": {},
     "output_type": "execute_result"
    }
   ],
   "source": [
    "y_train.head()"
   ]
  },
  {
   "cell_type": "code",
   "execution_count": 18,
   "id": "90470577-0f05-4e00-a059-fc8e45ecab1d",
   "metadata": {},
   "outputs": [
    {
     "data": {
      "text/html": [
       "<div>\n",
       "<style scoped>\n",
       "    .dataframe tbody tr th:only-of-type {\n",
       "        vertical-align: middle;\n",
       "    }\n",
       "\n",
       "    .dataframe tbody tr th {\n",
       "        vertical-align: top;\n",
       "    }\n",
       "\n",
       "    .dataframe thead th {\n",
       "        text-align: right;\n",
       "    }\n",
       "</style>\n",
       "<table border=\"1\" class=\"dataframe\">\n",
       "  <thead>\n",
       "    <tr style=\"text-align: right;\">\n",
       "      <th></th>\n",
       "      <th>Experience Years</th>\n",
       "    </tr>\n",
       "  </thead>\n",
       "  <tbody>\n",
       "    <tr>\n",
       "      <th>27</th>\n",
       "      <td>6.2</td>\n",
       "    </tr>\n",
       "    <tr>\n",
       "      <th>9</th>\n",
       "      <td>3.2</td>\n",
       "    </tr>\n",
       "    <tr>\n",
       "      <th>14</th>\n",
       "      <td>3.9</td>\n",
       "    </tr>\n",
       "    <tr>\n",
       "      <th>0</th>\n",
       "      <td>1.1</td>\n",
       "    </tr>\n",
       "    <tr>\n",
       "      <th>2</th>\n",
       "      <td>1.3</td>\n",
       "    </tr>\n",
       "  </tbody>\n",
       "</table>\n",
       "</div>"
      ],
      "text/plain": [
       "    Experience Years\n",
       "27               6.2\n",
       "9                3.2\n",
       "14               3.9\n",
       "0                1.1\n",
       "2                1.3"
      ]
     },
     "execution_count": 18,
     "metadata": {},
     "output_type": "execute_result"
    }
   ],
   "source": [
    "X_test.head()"
   ]
  },
  {
   "cell_type": "code",
   "execution_count": 19,
   "id": "e5edc1d6-1026-43c0-b5c4-b209d4889178",
   "metadata": {},
   "outputs": [
    {
     "data": {
      "text/plain": [
       "(8, 1)"
      ]
     },
     "execution_count": 19,
     "metadata": {},
     "output_type": "execute_result"
    }
   ],
   "source": [
    "X_test.shape"
   ]
  },
  {
   "cell_type": "code",
   "execution_count": 20,
   "id": "f902f9ff-86c6-4b02-9d9b-2de2a9401912",
   "metadata": {},
   "outputs": [
    {
     "data": {
      "text/plain": [
       "27    91000\n",
       "9     54445\n",
       "14    63218\n",
       "0     39343\n",
       "2     46205\n",
       "Name: Salary, dtype: int64"
      ]
     },
     "execution_count": 20,
     "metadata": {},
     "output_type": "execute_result"
    }
   ],
   "source": [
    "y_test.head()"
   ]
  },
  {
   "cell_type": "code",
   "execution_count": 21,
   "id": "4abccf6d-c4a3-478a-801d-2f6e76f1a7c8",
   "metadata": {},
   "outputs": [
    {
     "data": {
      "text/plain": [
       "17     57081\n",
       "37    112635\n",
       "38    122391\n",
       "29     91738\n",
       "24     82200\n",
       "Name: Salary, dtype: int64"
      ]
     },
     "execution_count": 21,
     "metadata": {},
     "output_type": "execute_result"
    }
   ],
   "source": [
    "y_train.head()"
   ]
  },
  {
   "cell_type": "code",
   "execution_count": 22,
   "id": "2f826ca6-8384-4701-8e9f-26e221a1d476",
   "metadata": {},
   "outputs": [
    {
     "data": {
      "text/plain": [
       "(8,)"
      ]
     },
     "execution_count": 22,
     "metadata": {},
     "output_type": "execute_result"
    }
   ],
   "source": [
    "y_test.shape"
   ]
  },
  {
   "cell_type": "code",
   "execution_count": 23,
   "id": "49990ccb-e2c1-4c7c-bfb1-95bdf3a65486",
   "metadata": {},
   "outputs": [
    {
     "data": {
      "text/plain": [
       "(32,)"
      ]
     },
     "execution_count": 23,
     "metadata": {},
     "output_type": "execute_result"
    }
   ],
   "source": [
    "y_train.shape"
   ]
  },
  {
   "cell_type": "markdown",
   "id": "21982587-22ae-4f52-9b6e-c648afa01c29",
   "metadata": {},
   "source": [
    "### FIT"
   ]
  },
  {
   "cell_type": "code",
   "execution_count": 24,
   "id": "8e14c886-90c4-479a-80b0-d20102f88cae",
   "metadata": {},
   "outputs": [],
   "source": [
    "from sklearn.linear_model import LinearRegression\n",
    "lr=LinearRegression()"
   ]
  },
  {
   "cell_type": "code",
   "execution_count": 25,
   "id": "168517db-2033-4457-915c-85d68e8e0448",
   "metadata": {},
   "outputs": [
    {
     "data": {
      "text/html": [
       "<div>\n",
       "<style scoped>\n",
       "    .dataframe tbody tr th:only-of-type {\n",
       "        vertical-align: middle;\n",
       "    }\n",
       "\n",
       "    .dataframe tbody tr th {\n",
       "        vertical-align: top;\n",
       "    }\n",
       "\n",
       "    .dataframe thead th {\n",
       "        text-align: right;\n",
       "    }\n",
       "</style>\n",
       "<table border=\"1\" class=\"dataframe\">\n",
       "  <thead>\n",
       "    <tr style=\"text-align: right;\">\n",
       "      <th></th>\n",
       "      <th>Experience Years</th>\n",
       "    </tr>\n",
       "  </thead>\n",
       "  <tbody>\n",
       "    <tr>\n",
       "      <th>27</th>\n",
       "      <td>6.2</td>\n",
       "    </tr>\n",
       "    <tr>\n",
       "      <th>9</th>\n",
       "      <td>3.2</td>\n",
       "    </tr>\n",
       "    <tr>\n",
       "      <th>14</th>\n",
       "      <td>3.9</td>\n",
       "    </tr>\n",
       "    <tr>\n",
       "      <th>0</th>\n",
       "      <td>1.1</td>\n",
       "    </tr>\n",
       "    <tr>\n",
       "      <th>2</th>\n",
       "      <td>1.3</td>\n",
       "    </tr>\n",
       "  </tbody>\n",
       "</table>\n",
       "</div>"
      ],
      "text/plain": [
       "    Experience Years\n",
       "27               6.2\n",
       "9                3.2\n",
       "14               3.9\n",
       "0                1.1\n",
       "2                1.3"
      ]
     },
     "execution_count": 25,
     "metadata": {},
     "output_type": "execute_result"
    }
   ],
   "source": [
    "lr.fit(X_train,y_train)\n",
    "X_test.head()"
   ]
  },
  {
   "cell_type": "code",
   "execution_count": 26,
   "id": "7db9a016-2ad4-4ad7-a58f-ecc114d1aa11",
   "metadata": {},
   "outputs": [
    {
     "data": {
      "text/plain": [
       "array([9629.89561636])"
      ]
     },
     "execution_count": 26,
     "metadata": {},
     "output_type": "execute_result"
    }
   ],
   "source": [
    "m=lr.coef_\n",
    "m"
   ]
  },
  {
   "cell_type": "code",
   "execution_count": 27,
   "id": "15fe2802-44dd-4e67-ad00-98257fcb22a9",
   "metadata": {},
   "outputs": [
    {
     "data": {
      "text/plain": [
       "24469.054538114055"
      ]
     },
     "execution_count": 27,
     "metadata": {},
     "output_type": "execute_result"
    }
   ],
   "source": [
    "c=lr.intercept_\n",
    "c"
   ]
  },
  {
   "cell_type": "markdown",
   "id": "b9a887d8-a6d9-4436-989f-6ce02553c71a",
   "metadata": {},
   "source": [
    "### PREDICT VALUE"
   ]
  },
  {
   "cell_type": "code",
   "execution_count": 30,
   "id": "336e6b61-6aa8-42d3-81cf-beffc692cdfc",
   "metadata": {},
   "outputs": [
    {
     "data": {
      "text/plain": [
       "array([55284.72051045])"
      ]
     },
     "execution_count": 30,
     "metadata": {},
     "output_type": "execute_result"
    }
   ],
   "source": [
    "lr.predict([[3.2]])"
   ]
  },
  {
   "cell_type": "code",
   "execution_count": 62,
   "id": "2779cae5-45ef-4a3d-8a73-1f8653df6e5c",
   "metadata": {},
   "outputs": [
    {
     "data": {
      "text/plain": [
       "array([84174.40735952])"
      ]
     },
     "execution_count": 62,
     "metadata": {},
     "output_type": "execute_result"
    }
   ],
   "source": [
    "lr.predict([[6.2]])"
   ]
  },
  {
   "cell_type": "raw",
   "id": "659bcee5-8bbb-42d7-b27d-8dcd994e0559",
   "metadata": {},
   "source": [
    "the prediction value of salary of 6.2 is \"84174\" and the actual value of salary of 6.2 is \"91000\".the difference between prediction and actual value is \n",
    "\"6826 $\"."
   ]
  },
  {
   "cell_type": "code",
   "execution_count": 67,
   "id": "0abf2017-b8e7-4144-aae5-29147412f38f",
   "metadata": {},
   "outputs": [
    {
     "data": {
      "image/png": "[encoded data removed]",
      "text/plain": [
       "<Figure size 640x480 with 1 Axes>"
      ]
     },
     "metadata": {},
     "output_type": "display_data"
    }
   ],
   "source": [
    "import matplotlib .pyplot as plt\n",
    "plt.scatter(salary[\"Experience Years\"],salary[\"Salary\"])\n",
    "plt.plot(X_train,lr.predict(X_train),color=\"red\")\n",
    "plt.xlabel(\"Experience years\")\n",
    "plt.ylabel(\"Salary\")\n",
    "plt.show()"
   ]
  },
  {
   "cell_type": "markdown",
   "id": "b4c409fd-2311-44e3-bdf7-01777648eb37",
   "metadata": {},
   "source": [
    "### MODEL EVALUATION"
   ]
  },
  {
   "cell_type": "code",
   "execution_count": 24,
   "id": "961a3df7-a9bd-49a0-b39b-194bb367f56b",
   "metadata": {},
   "outputs": [],
   "source": [
    "from sklearn.metrics import mean_absolute_error,mean_squared_error,r2_score"
   ]
  },
  {
   "cell_type": "code",
   "execution_count": 26,
   "id": "fefa095a-e9ae-42d6-aa50-75827b8dc312",
   "metadata": {},
   "outputs": [
    {
     "data": {
      "text/plain": [
       "array([[6.2],\n",
       "       [3.2],\n",
       "       [3.9],\n",
       "       [1.1],\n",
       "       [1.3],\n",
       "       [7.1],\n",
       "       [3.8],\n",
       "       [9.5]])"
      ]
     },
     "execution_count": 26,
     "metadata": {},
     "output_type": "execute_result"
    }
   ],
   "source": [
    "y_pred=lr.predict(X_test)\n",
    "y_test.values"
   ]
  },
  {
   "cell_type": "markdown",
   "id": "a9b38d3f-c7c1-4ce2-ab19-db5f49640bce",
   "metadata": {},
   "source": [
    "### MEAN ABSOLUTE ERROR"
   ]
  },
  {
   "cell_type": "raw",
   "id": "d4e98ba8-8a7b-4692-9465-70a2335a90ce",
   "metadata": {},
   "source": [
    "that measures the average absolute difference between predicted values and actual values, "
   ]
  },
  {
   "cell_type": "code",
   "execution_count": 89,
   "id": "13c0a52d-ba37-48b9-96ab-b68c777652b8",
   "metadata": {},
   "outputs": [
    {
     "data": {
      "text/plain": [
       "71202.1125"
      ]
     },
     "execution_count": 89,
     "metadata": {},
     "output_type": "execute_result"
    }
   ],
   "source": [
    "b=mean_absolute_error(y_test,y_pred)\n",
    "b"
   ]
  },
  {
   "cell_type": "markdown",
   "id": "36d085f1-7e0e-4776-a9f1-656968dcdcb4",
   "metadata": {},
   "source": [
    "### MEAN SQUARED ERROR"
   ]
  },
  {
   "cell_type": "raw",
   "id": "a5a3cf79-f831-4f6a-903d-377a9b82bab5",
   "metadata": {},
   "source": [
    "That measures the average of the squares of the differences between predicted values and actual values,"
   ]
  },
  {
   "cell_type": "code",
   "execution_count": 77,
   "id": "1f07df93-1157-4bc6-bd4f-acb643fd9b28",
   "metadata": {},
   "outputs": [
    {
     "data": {
      "text/plain": [
       "5735208111.41125"
      ]
     },
     "execution_count": 77,
     "metadata": {},
     "output_type": "execute_result"
    }
   ],
   "source": [
    "mse=mean_squared_error(y_test,y_pred)\n",
    "a"
   ]
  },
  {
   "cell_type": "markdown",
   "id": "7178cfb8-dd25-4eb4-91e7-0f1f44b0ea2a",
   "metadata": {},
   "source": [
    "### CONCLUSION"
   ]
  },
  {
   "cell_type": "markdown",
   "id": "5ebb2e81-115b-4dd5-b9a3-68b053c19752",
   "metadata": {},
   "source": [
    "->Here we have taken the Predicting Employee Salary Based on Experience data.\n",
    "->The total count of employees is \"40\".\n",
    "->Maximum experience years employee has \"10.5\"years.\n",
    "->The maximum salary is \"$122391\"\n",
    "->Minimum experience years employees has \"1.1\" years.\n",
    "->yes,the realationship between experience Years and Salary is if Experience Years is increased Salary is increased.\n",
    "->Mean of the salary is \"$74743\"\n",
    "->median of the salary is \"$64472.5\"\n",
    "->median of the experience years of employees is \"4.6\"years.\n",
    "->There are 7 employees who receive a salary below $50,000.\n",
    "->there are 18 employees with 5 or more years of experience.\n",
    "->There are 4 employees below 2 years of experience.\n",
    "->By the histplot 4&5 years experience years has 10 employees.\n",
    "->the above histplot tells the 11 employees get between the $50000 & 60000 salary.\n",
    "->The correlation  between years of experience and salary is 0.977692, indicating a very strong positive linear relationship."
   ]
  },
  {
   "cell_type": "markdown",
   "id": "63e57b70-9a1f-4cea-be06-6aa9d13effc0",
   "metadata": {},
   "source": [
    "### THE END"
   ]
  },
  {
   "cell_type": "code",
   "execution_count": null,
   "id": "0bea2687-cf0f-435b-82cc-fc8e9ddb6271",
   "metadata": {},
   "outputs": [],
   "source": []
  }
 ],
 "metadata": {
  "kernelspec": {
   "display_name": "Python 3 (ipykernel)",
   "language": "python",
   "name": "python3"
  },
  "language_info": {
   "codemirror_mode": {
    "name": "ipython",
    "version": 3
   },
   "file_extension": ".py",
   "mimetype": "text/x-python",
   "name": "python",
   "nbconvert_exporter": "python",
   "pygments_lexer": "ipython3",
   "version": "3.11.7"
  }
 },
 "nbformat": 4,
 "nbformat_minor": 5
}
